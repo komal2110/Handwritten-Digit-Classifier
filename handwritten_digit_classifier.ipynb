{
 "cells": [
  {
   "cell_type": "code",
   "execution_count": 1,
   "metadata": {},
   "outputs": [],
   "source": [
    "import tensorflow as tf\n",
    "from os import path, getcwd, chdir"
   ]
  },
  {
   "cell_type": "code",
   "execution_count": 2,
   "metadata": {},
   "outputs": [],
   "source": [
    "path = f\"{getcwd()}/mnist.npz\""
   ]
  },
  {
   "cell_type": "code",
   "execution_count": 3,
   "metadata": {},
   "outputs": [],
   "source": [
    "def train_mnist():\n",
    "    \n",
    "    class myCallback(tf.keras.callbacks.Callback):\n",
    "        def on_epoch_end(self, epoch, logs={}):\n",
    "            if (logs.get('accuracy')>0.9980):\n",
    "                print(\"\\nReached 99.8% accuracy so cancelling training!\")\n",
    "                self.model.stop_training = True\n",
    "\n",
    "    mnist = tf.keras.datasets.mnist\n",
    "\n",
    "    (x_train, y_train),(x_test, y_test) = mnist.load_data(path=path)\n",
    "    \n",
    "    x_train = x_train.reshape(60000,28,28,1)\n",
    "    x_test = x_test.reshape(10000,28,28,1)\n",
    "    \n",
    "    x_train = x_train / 255.0\n",
    "    x_test = x_test / 255.0\n",
    "                    \n",
    "    callbacks = myCallback()\n",
    "\n",
    "    model = tf.keras.models.Sequential([\n",
    "        tf.keras.layers.Conv2D(64, (3,3), activation = tf.nn.relu),\n",
    "        tf.keras.layers.MaxPooling2D((2,2)),\n",
    "        tf.keras.layers.Flatten(),\n",
    "        tf.keras.layers.Flatten(),\n",
    "        tf.keras.layers.Dense(128, activation = tf.nn.relu),\n",
    "        tf.keras.layers.Dense(10, activation = tf.nn.softmax)\n",
    "    ])\n",
    "\n",
    "    model.compile(optimizer='adam',\n",
    "                  loss='sparse_categorical_crossentropy',\n",
    "                  metrics=['accuracy'])\n",
    "    \n",
    "    # model fitting\n",
    "    history = model.fit(x_train, y_train, epochs = 10, callbacks = [callbacks])\n",
    "    # model fitting\n",
    "    return history.epoch, history.history['accuracy'][-1]"
   ]
  },
  {
   "cell_type": "code",
   "execution_count": 4,
   "metadata": {},
   "outputs": [
    {
     "name": "stdout",
     "output_type": "stream",
     "text": [
      "Train on 60000 samples\n",
      "Epoch 1/10\n",
      "60000/60000 [==============================] - 36s 601us/sample - loss: 0.1319 - accuracy: 0.9602\n",
      "Epoch 2/10\n",
      "60000/60000 [==============================] - 36s 592us/sample - loss: 0.0475 - accuracy: 0.9850\n",
      "Epoch 3/10\n",
      "60000/60000 [==============================] - 36s 593us/sample - loss: 0.0290 - accuracy: 0.9905\n",
      "Epoch 4/10\n",
      "60000/60000 [==============================] - 36s 593us/sample - loss: 0.0179 - accuracy: 0.9941\n",
      "Epoch 5/10\n",
      "60000/60000 [==============================] - 36s 594us/sample - loss: 0.0126 - accuracy: 0.9961\n",
      "Epoch 6/10\n",
      "60000/60000 [==============================] - 36s 597us/sample - loss: 0.0091 - accuracy: 0.9969\n",
      "Epoch 7/10\n",
      "60000/60000 [==============================] - 36s 595us/sample - loss: 0.0067 - accuracy: 0.9980\n",
      "Epoch 8/10\n",
      "59968/60000 [============================>.] - ETA: 0s - loss: 0.0051 - accuracy: 0.9984\n",
      "Reached 99.8% accuracy so cancelling training!\n",
      "60000/60000 [==============================] - 36s 605us/sample - loss: 0.0051 - accuracy: 0.9984\n"
     ]
    },
    {
     "data": {
      "text/plain": [
       "([0, 1, 2, 3, 4, 5, 6, 7], 0.9984)"
      ]
     },
     "execution_count": 4,
     "metadata": {},
     "output_type": "execute_result"
    }
   ],
   "source": [
    "train_mnist()"
   ]
  }
 ],
 "metadata": {
  "kernelspec": {
   "display_name": "Python 3",
   "language": "python",
   "name": "python3"
  },
  "language_info": {
   "codemirror_mode": {
    "name": "ipython",
    "version": 3
   },
   "file_extension": ".py",
   "mimetype": "text/x-python",
   "name": "python",
   "nbconvert_exporter": "python",
   "pygments_lexer": "ipython3",
   "version": "3.6.8"
  }
 },
 "nbformat": 4,
 "nbformat_minor": 2
}
